{
  "nbformat": 4,
  "nbformat_minor": 0,
  "metadata": {
    "colab": {
      "provenance": []
    },
    "kernelspec": {
      "name": "python3",
      "display_name": "Python 3"
    },
    "language_info": {
      "name": "python"
    }
  },
  "cells": [
    {
      "cell_type": "code",
      "execution_count": 11,
      "metadata": {
        "id": "ybcMJSsGzy6I"
      },
      "outputs": [],
      "source": [
        "import torch\n",
        "from torch import Tensor\n",
        "import torch.nn as nn\n",
        "import math\n",
        "import torch.nn.functional as F"
      ]
    },
    {
      "cell_type": "code",
      "source": [
        "class Config:\n",
        "    vocab_size : int = 5_000\n",
        "    window : int = 512\n",
        "    d_model = 768\n",
        "    layers : int = 12\n",
        "    p : float = 0.1\n",
        "    heads : int = 12\n",
        "    inner_state : int = 3072\n",
        "    device : str = \"cpu\"\n",
        "    n_class : int = 2"
      ],
      "metadata": {
        "id": "BMrsNkoQ4tvS"
      },
      "execution_count": 12,
      "outputs": []
    },
    {
      "cell_type": "code",
      "source": [
        "class DecoderLayer(nn.Module):\n",
        "    def __init__(\n",
        "        self,\n",
        "        config\n",
        "        ):\n",
        "\n",
        "        super().__init__()\n",
        "\n",
        "        \" Masked Multi Self Attention.\"\n",
        "        self.C = nn.Linear(config.d_model, config.d_model*3)\n",
        "        self.linear = nn.Linear(config.d_model, config.d_model)\n",
        "\n",
        "        \" Feed Forward Module.\"\n",
        "        self.FF = nn.Sequential(\n",
        "            nn.Linear(config.d_model, config.inner_state),\n",
        "            nn.GELU(),\n",
        "            nn.Linear(config.inner_state, config.d_model),\n",
        "            nn.Dropout(config.p)\n",
        "        )\n",
        "\n",
        "        \" Two Layer Norms.\"\n",
        "        self.LN1 = nn.LayerNorm(config.d_model)\n",
        "        self.LN2 = nn.LayerNorm(config.d_model)\n",
        "\n",
        "        self.head_dim = config.d_model // config.heads\n",
        "        self.heads = config.heads\n",
        "        self.dropout = nn.Dropout(config.p)\n",
        "\n",
        "        \" Weight Initialization N[0, 0.02] \"\n",
        "        nn.init.normal_(self.FF[0].weight, 0, 0.02)\n",
        "        nn.init.normal_(self.FF[2].weight, 0, 0.02)\n",
        "\n",
        "    def forward(self, x: Tensor) -> Tensor:\n",
        "        batch, window, d = x.shape\n",
        "        mask = self._make_mask(batch, window)\n",
        "\n",
        "        c = self.C(x)\n",
        "        q, k, v = torch.split(tensor=c, split_size_or_sections=d, dim=2)\n",
        "        q = q.reshape(batch, window, self.heads, self.head_dim)\n",
        "        k = k.reshape(batch, window, self.heads, self.head_dim)\n",
        "        v = v.reshape(batch, window, self.heads, self.head_dim)\n",
        "\n",
        "        QK = torch.einsum(\"bqhd, bkhd -> bhqk\", [q, k]) / math.sqrt(d)\n",
        "        QK = QK.masked_fill(mask==0, float(\"-inf\"))\n",
        "        scores = self.dropout(F.softmax(QK, dim=3))\n",
        "        output = torch.einsum(\"bhqk, bvhd -> bqhd\", [scores, v])\n",
        "        concat = output.reshape(batch, window, d)\n",
        "        linear = self.dropout(self.linear(concat))\n",
        "\n",
        "        addnorm1 = self.LN1(x + linear)\n",
        "        addnorm2 = self.LN2(addnorm1 + self.FF(addnorm1))\n",
        "        return addnorm2\n",
        "\n",
        "    def _make_mask(self, batch, window):\n",
        "        mask = torch.tril(torch.ones((window, window)))\n",
        "        return mask.reshape(batch, 1, window, window)"
      ],
      "metadata": {
        "id": "u1bT1uo114NX"
      },
      "execution_count": 13,
      "outputs": []
    },
    {
      "cell_type": "code",
      "source": [
        "class GPT(nn.Module):\n",
        "    def __init__(\n",
        "        self,\n",
        "        config\n",
        "        ):\n",
        "\n",
        "        super().__init__()\n",
        "        self.word_emb = nn.Embedding(config.vocab_size, config.d_model)\n",
        "        self.pos_emb = nn.Embedding(config.window, config.d_model)\n",
        "        self.decoder = nn.ModuleList([DecoderLayer(config) for _ in range(config.layers)])\n",
        "        self.dropout = nn.Dropout(config.p)\n",
        "        self.config = config\n",
        "\n",
        "        nn.init.normal_(self.word_emb.weight, 0, 0.02)\n",
        "\n",
        "    def forward(self, x: Tensor) -> Tensor:\n",
        "        batch, window = x.shape\n",
        "        positions = torch.arange(0, window).expand(batch, window).to(self.config.device)\n",
        "        dec_out = self.dropout(self.word_emb(x) + self.pos_emb(positions))\n",
        "\n",
        "        for dec_layer in self.decoder:\n",
        "            dec_out = dec_layer(dec_out)\n",
        "\n",
        "        return dec_out\n",
        "\n",
        "class LMHead(nn.Module):\n",
        "    def __init__(\n",
        "        self,\n",
        "        config,\n",
        "        gpt\n",
        "        ):\n",
        "\n",
        "        super().__init__()\n",
        "        self.gpt = gpt\n",
        "        self.prediction = nn.Linear(config.d_model, config.vocab_size, bias=False)\n",
        "        self.prediction.weights = gpt.word_emb.weight\n",
        "\n",
        "    def forward(self, x: Tensor) -> Tensor:\n",
        "        dec_out = self.gpt(x)\n",
        "        logits = self.prediction(dec_out)\n",
        "        return logits\n",
        "\n",
        "class CLSHead(nn.Module):\n",
        "    def __init__(\n",
        "        self,\n",
        "        config,\n",
        "        gpt\n",
        "        ):\n",
        "\n",
        "        super().__init__()\n",
        "        self.gpt = gpt\n",
        "        self.prediction = nn.Linear(config.d_model, config.vocab_size, bias=False)\n",
        "        self.prediction.weights = gpt.word_emb.weight\n",
        "        self.classifier = nn.Linear(config.d_model, config.n_class)\n",
        "\n",
        "        nn.init.normal_(self.classifier.weight, std=0.02)\n",
        "\n",
        "    def forward(self, x: Tensor) -> Tensor:\n",
        "        dec_out = self.gpt(x)\n",
        "\n",
        "        lm_logits = self.prediction(dec_out)\n",
        "        cls_logits = self.classifier(dec_out)\n",
        "        return lm_logits, cls_logits"
      ],
      "metadata": {
        "id": "1n7092dH17Gm"
      },
      "execution_count": 14,
      "outputs": []
    },
    {
      "cell_type": "code",
      "source": [
        "config = Config()\n",
        "gpt = GPT(config)\n",
        "lm_test = LMHead(config, gpt)\n",
        "cls_test = CLSHead(config, gpt)\n",
        "logits = lm_test(torch.randint(0, config.vocab_size, (1, config.window)))\n",
        "print(logits.shape)\n",
        "lm_logits, cls_logits = cls_test(torch.randint(0, config.vocab_size, (1, config.window)))\n",
        "print(lm_logits.shape, cls_logits.shape)"
      ],
      "metadata": {
        "colab": {
          "base_uri": "https://localhost:8080/"
        },
        "id": "R7fz6JkK4gx-",
        "outputId": "1ec327a7-b9a9-44f8-ee80-6085912cbd2e"
      },
      "execution_count": 15,
      "outputs": [
        {
          "output_type": "stream",
          "name": "stdout",
          "text": [
            "torch.Size([1, 512, 5000])\n",
            "torch.Size([1, 512, 5000]) torch.Size([1, 512, 2])\n"
          ]
        }
      ]
    },
    {
      "cell_type": "code",
      "source": [],
      "metadata": {
        "id": "ajvhxge04miL"
      },
      "execution_count": null,
      "outputs": []
    }
  ]
}